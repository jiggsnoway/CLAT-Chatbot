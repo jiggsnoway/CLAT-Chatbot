{
  "nbformat": 4,
  "nbformat_minor": 0,
  "metadata": {
    "colab": {
      "provenance": []
    },
    "kernelspec": {
      "name": "python3",
      "display_name": "Python 3"
    },
    "language_info": {
      "name": "python"
    }
  },
  "cells": [
    {
      "cell_type": "code",
      "execution_count": 6,
      "metadata": {
        "colab": {
          "base_uri": "https://localhost:8080/"
        },
        "id": "FfbHXpmlnx3A",
        "outputId": "c0f10864-9aae-40d7-b537-bde3b62f4a91"
      },
      "outputs": [
        {
          "output_type": "stream",
          "name": "stdout",
          "text": [
            "👩‍⚖️ Welcome to the CLAT Chatbot!\n",
            "Type your question (or type 'exit' to quit)\n",
            "\n",
            "You: what is the syllabus\n",
            "Bot: The CLAT 2025 syllabus includes English, Current Affairs, Legal Reasoning, Logical Reasoning, and Quantitative Techniques.\n",
            "You: cutoff for nlsiu\n",
            "Bot: Last year's cut-off for NLSIU Bangalore was around AIR 120.\n",
            "You: what is the duration\n",
            "Bot: The CLAT exam duration is 2 hours (120 minutes).\n",
            "You: how many questions to attempt\n",
            "Bot: The CLAT paper usually has 150 multiple-choice questions.\n",
            "You: exit\n",
            "Bot: Thank you! Good luck with your preparation. 🧠📚\n"
          ]
        }
      ],
      "source": [
        "# 📘 CLAT Chatbot - Rule-Based Version\n",
        "\n",
        "def clat_chatbot():\n",
        "    print(\"👩‍⚖️ Welcome to the CLAT Chatbot!\")\n",
        "    print(\"Type your question (or type 'exit' to quit)\\n\")\n",
        "\n",
        "    while True:\n",
        "        query = input(\"You: \").lower()  # Convert to lowercase for easier matching\n",
        "\n",
        "        if 'syllabus' in query:\n",
        "            print(\"Bot: The CLAT 2025 syllabus includes English, Current Affairs, Legal Reasoning, Logical Reasoning, and Quantitative Techniques.\")\n",
        "\n",
        "        elif 'english section' in query:\n",
        "            print(\"Bot: The English section typically has 22-26 questions, focusing on reading comprehension and vocabulary.\")\n",
        "\n",
        "        elif ('cutoff' in query or 'cut-off' in query) and ('nlsiu' in query or 'bangalore' in query):\n",
        "            print(\"Bot: Last year's cut-off for NLSIU Bangalore was around AIR 120.\")\n",
        "\n",
        "        elif 'how many questions' in query:\n",
        "            print(\"Bot: The CLAT paper usually has 150 multiple-choice questions.\")\n",
        "\n",
        "        elif 'time' in query or 'duration' in query:\n",
        "            print(\"Bot: The CLAT exam duration is 2 hours (120 minutes).\")\n",
        "\n",
        "        elif query == 'exit':\n",
        "            print(\"Bot: Thank you! Good luck with your preparation. 🧠📚\")\n",
        "            break\n",
        "\n",
        "        else:\n",
        "            print(\"Bot: Sorry, I don't have an answer for that yet. Try asking about syllabus, cut-offs, or exam pattern.\")\n",
        "\n",
        "# Running the chatbot\n",
        "clat_chatbot()\n"
      ]
    },
    {
      "cell_type": "code",
      "source": [],
      "metadata": {
        "id": "7LqAzLd0oW0U"
      },
      "execution_count": null,
      "outputs": []
    }
  ]
}